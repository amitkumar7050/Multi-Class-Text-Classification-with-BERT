{
  "metadata": {
    "kernelspec": {
      "display_name": "Python 3",
      "language": "python",
      "name": "python3"
    },
    "language_info": {
      "codemirror_mode": {
        "name": "ipython",
        "version": 3
      },
      "file_extension": ".py",
      "mimetype": "text/x-python",
      "name": "python",
      "nbconvert_exporter": "python",
      "pygments_lexer": "ipython3",
      "version": "3.8.8"
    },
    "colab": {
      "provenance": []
    }
  },
  "nbformat_minor": 5,
  "nbformat": 4,
  "cells": [
    {
      "cell_type": "markdown",
      "source": [
        "# Multi-Class Text Classification with BERT 🚀\n",
        "\n",
        "[![Python Version](https://img.shields.io/badge/python-3.8%2B-blue)](https://www.python.org/downloads/release)\n",
        "[![PyTorch Version](https://img.shields.io/badge/pytorch-1.8%2B-orange)](https://pytorch.org/get-started/locally/)\n",
        "\n",
        "## Project Overview\n",
        "\n",
        "### 🏢 Business Overview\n",
        "In this NLP project, we aim to perform multiclass text classification using a pre-trained BERT model. The dataset consists of more than two million customer complaints about consumer financial products, with columns for complaint text and product labels.\n",
        "\n",
        "### 🎯 Aim\n",
        "The goal is to leverage the power of the BERT (Bidirectional Encoder Representations) model, an open-source ML framework for Natural Language Processing, to achieve state-of-the-art results in multiclass text classification.\n",
        "\n",
        "## Data Description\n",
        "\n",
        "The dataset includes customer complaints about financial products, with columns for complaint text and product labels. The task is to predict the product category based on the complaint text.\n",
        "\n",
        "## Tech Stack\n",
        "\n",
        "- **Language:** Python\n",
        "- **Libraries:** pandas, torch, nltk, numpy, pickle, re, tqdm, sklearn, transformers\n",
        "\n",
        "## Prerequisite\n",
        "\n",
        "1. Install the torch framework\n",
        "2. Understanding of Multiclass Text Classification using Naive Bayes\n",
        "3. Familiarity with Skip Gram Model for Word Embeddings\n",
        "4. Knowledge of building Multi-Class Text Classification Models with RNN and LSTM\n",
        "5. Understanding Text Classification Model with Attention Mechanism in NLP\n",
        "\n",
        "## Approach\n",
        "\n",
        "1. **Data Processing**\n",
        "   - Read CSV, handle null values, encode labels, preprocess text.\n",
        "\n",
        "2. **Model Building**\n",
        "   - Create BERT model, define dataset, train and test functions.\n",
        "\n",
        "3. **Training**\n",
        "   - Load data, split, create datasets and loaders.\n",
        "   - Train BERT model on GPU/CPU.\n",
        "\n",
        "4. **Predictions**\n",
        "   - Make predictions on new text data.\n",
        "\n",
        "## Project Structure\n",
        "\n",
        "- **Input:** complaints.csv\n",
        "- **Output:** bert_pre_trained.pth, label_encoder.pkl, labels.pkl, tokens.pkl\n",
        "- **Source:** model.py, data.py, utils.py\n",
        "- **Files:** Engine.py, bert.ipynb, processing.py, predict.py, README.md, requirements.txt\n",
        "\n",
        "## Takeaways\n",
        "\n",
        "1. Solving business problems using pre-trained models.\n",
        "2. Leveraging BERT for text classification.\n",
        "3. Data preparation and model training.\n",
        "4. Making predictions on new data.\n",
        "\n"
      ],
      "metadata": {
        "id": "jWF-Zx1GmQTD"
      },
      "id": "jWF-Zx1GmQTD"
    },
    {
      "cell_type": "code",
      "source": [
        "import re\n",
        "import torch\n",
        "import pickle\n",
        "import numpy as np\n",
        "import pandas as pd\n",
        "from tqdm import tqdm\n",
        "import torch.nn as nn\n",
        "from transformers import BertModel\n",
        "from transformers import BertTokenizer\n",
        "from sklearn.metrics import accuracy_score\n",
        "from sklearn.preprocessing import LabelEncoder\n",
        "from sklearn.model_selection import train_test_split"
      ],
      "metadata": {
        "id": "Y13jBgGTmQTG"
      },
      "execution_count": null,
      "outputs": [],
      "id": "Y13jBgGTmQTG"
    },
    {
      "cell_type": "code",
      "source": [
        "lr = 1e-3\n",
        "seq_len = 20\n",
        "dropout = 0.5\n",
        "num_epochs = 10\n",
        "label_col = \"Product\"\n",
        "tokens_path = \"Output/tokens.pkl\"\n",
        "labels_path = \"Output/labels.pkl\"\n",
        "data_path = \"Input/complaints.csv\"\n",
        "model_path = \"Output/bert_pre_trained.pth\"\n",
        "text_col_name = \"Consumer complaint narrative\"\n",
        "label_encoder_path = \"Output/label_encoder.pkl\"\n",
        "product_map = {'Vehicle loan or lease': 'vehicle_loan',\n",
        "               'Credit reporting, credit repair services, or other personal consumer reports': 'credit_report',\n",
        "               'Credit card or prepaid card': 'card',\n",
        "               'Money transfer, virtual currency, or money service': 'money_transfer',\n",
        "               'virtual currency': 'money_transfer',\n",
        "               'Mortgage': 'mortgage',\n",
        "               'Payday loan, title loan, or personal loan': 'loan',\n",
        "               'Debt collection': 'debt_collection',\n",
        "               'Checking or savings account': 'savings_account',\n",
        "               'Credit card': 'card',\n",
        "               'Bank account or service': 'savings_account',\n",
        "               'Credit reporting': 'credit_report',\n",
        "               'Prepaid card': 'card',\n",
        "               'Payday loan': 'loan',\n",
        "               'Other financial service': 'others',\n",
        "               'Virtual currency': 'money_transfer',\n",
        "               'Student loan': 'loan',\n",
        "               'Consumer Loan': 'loan',\n",
        "               'Money transfers': 'money_transfer'}"
      ],
      "metadata": {
        "id": "8IrAO2rHmQTI"
      },
      "execution_count": null,
      "outputs": [],
      "id": "8IrAO2rHmQTI"
    },
    {
      "cell_type": "code",
      "source": [
        "def save_file(name, obj):\n",
        "    \"\"\"\n",
        "    Function to save an object as pickle file\n",
        "    \"\"\"\n",
        "    with open(name, 'wb') as f:\n",
        "        pickle.dump(obj, f)\n",
        "\n",
        "\n",
        "def load_file(name):\n",
        "    \"\"\"\n",
        "    Function to load a pickle object\n",
        "    \"\"\"\n",
        "    return pickle.load(open(name, \"rb\"))"
      ],
      "metadata": {
        "id": "wiyP6-xkmQTJ"
      },
      "execution_count": null,
      "outputs": [],
      "id": "wiyP6-xkmQTJ"
    },
    {
      "cell_type": "markdown",
      "source": [
        "## Process text data\n",
        "---"
      ],
      "metadata": {
        "id": "l0fYIHW4mQTK"
      },
      "id": "l0fYIHW4mQTK"
    },
    {
      "cell_type": "code",
      "source": [
        "data = pd.read_csv(data_path)"
      ],
      "metadata": {
        "id": "69Bqhp9hmQTK"
      },
      "execution_count": null,
      "outputs": [],
      "id": "69Bqhp9hmQTK"
    },
    {
      "cell_type": "code",
      "source": [
        "data.dropna(subset=[text_col_name], inplace=True)"
      ],
      "metadata": {
        "id": "YG69L9eKmQTL"
      },
      "execution_count": null,
      "outputs": [],
      "id": "YG69L9eKmQTL"
    },
    {
      "cell_type": "code",
      "source": [
        "data.replace({label_col: product_map}, inplace=True)"
      ],
      "metadata": {
        "id": "YTBupPpmmQTM"
      },
      "execution_count": null,
      "outputs": [],
      "id": "YTBupPpmmQTM"
    },
    {
      "cell_type": "markdown",
      "source": [
        "### Encode labels"
      ],
      "metadata": {
        "id": "9UdsOMYJmQTN"
      },
      "id": "9UdsOMYJmQTN"
    },
    {
      "cell_type": "code",
      "source": [
        "label_encoder = LabelEncoder()\n",
        "label_encoder.fit(data[label_col])\n",
        "labels = label_encoder.transform(data[label_col])"
      ],
      "metadata": {
        "id": "_eatZAIEmQTN"
      },
      "execution_count": null,
      "outputs": [],
      "id": "_eatZAIEmQTN"
    },
    {
      "cell_type": "code",
      "source": [
        "save_file(labels_path, labels)\n",
        "save_file(label_encoder_path, label_encoder)"
      ],
      "metadata": {
        "id": "RMGJm3nXmQTO"
      },
      "execution_count": null,
      "outputs": [],
      "id": "RMGJm3nXmQTO"
    },
    {
      "cell_type": "markdown",
      "source": [
        "### Process the text column"
      ],
      "metadata": {
        "id": "inEEgU-xmQTO"
      },
      "id": "inEEgU-xmQTO"
    },
    {
      "cell_type": "code",
      "source": [
        "input_text = list(data[text_col_name])"
      ],
      "metadata": {
        "id": "lEZFNJWtmQTO"
      },
      "execution_count": null,
      "outputs": [],
      "id": "lEZFNJWtmQTO"
    },
    {
      "cell_type": "code",
      "source": [
        "len(input_text)"
      ],
      "metadata": {
        "id": "gkkHfmovmQTP",
        "outputId": "b2422e71-270b-4297-d376-bfc98d29295a"
      },
      "execution_count": null,
      "outputs": [
        {
          "execution_count": 11,
          "output_type": "execute_result",
          "data": {
            "text/plain": [
              "809343"
            ]
          },
          "metadata": {}
        }
      ],
      "id": "gkkHfmovmQTP"
    },
    {
      "cell_type": "markdown",
      "source": [
        "### Convert text to lower case"
      ],
      "metadata": {
        "id": "lHJE5MI4mQTQ"
      },
      "id": "lHJE5MI4mQTQ"
    },
    {
      "cell_type": "code",
      "source": [
        "input_text = [i.lower() for i in tqdm(input_text)]"
      ],
      "metadata": {
        "id": "TcFpQp-bmQTQ",
        "outputId": "c18472d1-8c2a-49ea-d641-8b3073a12d7c"
      },
      "execution_count": null,
      "outputs": [
        {
          "name": "stderr",
          "output_type": "stream",
          "text": "100%|██████████████████████████████████████████████████████████████████████████| 8000/8000 [00:00<00:00, 423202.19it/s]\n"
        }
      ],
      "id": "TcFpQp-bmQTQ"
    },
    {
      "cell_type": "markdown",
      "source": [
        "### Remove punctuations except apostrophe"
      ],
      "metadata": {
        "id": "2QOWLkHKmQTR"
      },
      "id": "2QOWLkHKmQTR"
    },
    {
      "cell_type": "code",
      "source": [
        "input_text = [re.sub(r\"[^\\w\\d'\\s]+\", \" \", i)\n",
        "             for i in tqdm(input_text)]"
      ],
      "metadata": {
        "id": "anL7usnLmQTR",
        "outputId": "54dde441-ed0b-4ce8-926b-694748e4a723"
      },
      "execution_count": null,
      "outputs": [
        {
          "name": "stderr",
          "output_type": "stream",
          "text": "100%|███████████████████████████████████████████████████████████████████████████| 8000/8000 [00:00<00:00, 16721.68it/s]\n"
        }
      ],
      "id": "anL7usnLmQTR"
    },
    {
      "cell_type": "markdown",
      "source": [
        "### Remove digits"
      ],
      "metadata": {
        "id": "s2dWfrCCmQTR"
      },
      "id": "s2dWfrCCmQTR"
    },
    {
      "cell_type": "code",
      "source": [
        "input_text = [re.sub(\"\\d+\", \"\", i) for i in tqdm(input_text)]"
      ],
      "metadata": {
        "id": "_ZpATH1bmQTR",
        "outputId": "16390196-1d1e-4642-b7de-13aa174d6a41"
      },
      "execution_count": null,
      "outputs": [
        {
          "name": "stderr",
          "output_type": "stream",
          "text": "100%|███████████████████████████████████████████████████████████████████████████| 8000/8000 [00:00<00:00, 25635.34it/s]\n"
        }
      ],
      "id": "_ZpATH1bmQTR"
    },
    {
      "cell_type": "markdown",
      "source": [
        "### Remove more than one consecutive instance of 'x'"
      ],
      "metadata": {
        "id": "MSfQxVARmQTR"
      },
      "id": "MSfQxVARmQTR"
    },
    {
      "cell_type": "code",
      "source": [
        "input_text = [re.sub(r'[x]{2,}', \"\", i) for i in tqdm(input_text)]"
      ],
      "metadata": {
        "id": "e3_VZpn3mQTS",
        "outputId": "46aeb1e1-8be0-4144-a7bc-6501ae27acb8"
      },
      "execution_count": null,
      "outputs": [
        {
          "name": "stderr",
          "output_type": "stream",
          "text": "100%|███████████████████████████████████████████████████████████████████████████| 8000/8000 [00:00<00:00, 31373.15it/s]\n"
        }
      ],
      "id": "e3_VZpn3mQTS"
    },
    {
      "cell_type": "markdown",
      "source": [
        "### Remove multiple spaces with single space"
      ],
      "metadata": {
        "id": "ClaBcDjGmQTS"
      },
      "id": "ClaBcDjGmQTS"
    },
    {
      "cell_type": "code",
      "source": [
        "input_text = [re.sub(' +', ' ', i) for i in tqdm(input_text)]"
      ],
      "metadata": {
        "id": "Tb5OfC-YmQTS",
        "outputId": "905cc1ac-0ef9-4a5c-c9f0-5efb486d2009"
      },
      "execution_count": null,
      "outputs": [
        {
          "name": "stderr",
          "output_type": "stream",
          "text": "100%|███████████████████████████████████████████████████████████████████████████| 8000/8000 [00:00<00:00, 10778.53it/s]\n"
        }
      ],
      "id": "Tb5OfC-YmQTS"
    },
    {
      "cell_type": "markdown",
      "source": [
        "### Tokenize the text"
      ],
      "metadata": {
        "id": "ahQ4AFlqmQTS"
      },
      "id": "ahQ4AFlqmQTS"
    },
    {
      "cell_type": "code",
      "source": [
        "tokenizer = BertTokenizer.from_pretrained(\"bert-base-cased\")"
      ],
      "metadata": {
        "id": "o1F8-TEamQTS"
      },
      "execution_count": null,
      "outputs": [],
      "id": "o1F8-TEamQTS"
    },
    {
      "cell_type": "code",
      "source": [
        "input_text[0]"
      ],
      "metadata": {
        "id": "7u0NH7_8mQTS",
        "outputId": "b9e8c220-990e-4afb-a215-9c8b17c6a4d3"
      },
      "execution_count": null,
      "outputs": [
        {
          "execution_count": 20,
          "output_type": "execute_result",
          "data": {
            "text/plain": [
              "'i contacted ally on friday after falling behind on payments due to being out of work for a short period of time due to an illness i chated with a representative after logging into my account regarding my opitions to ensure i protect my credit and bring my account current \\n\\nshe advised me that before an extenstion could be done i had to make a payment in the amount of i reviewed my finances as i am playing catch up on all my bills and made this payment on monday this rep advised me once this payment posts to my account to contact ally back for an extention or to have a payment deffered to the end of my loan \\n\\nwith this in mind i contacted ally again today and chatted with i explained all of the above and the information i was provided when i chatted with the rep last week she asked several questions and advised me that a one or two month extension deffered payment could be done however partial payment is needed what she advised me or there abouts would be due within days from me accepting the agreement and then the remaining bal of or there abouts would be due in in my payments of per month would resume \\n\\nif this was the case i should have just been offered this when i just made my payment so that i could catch up on my bills \\n\\nthis company was working with in new jersey which has since closed most likely due to illegal practices they changed my loan company to this company after i had signed paperwork for another kill you with interest rates and has never once considered refiancing my vechile for a lower interest rate due to the age of the vechile other companies will not take it and they do not work with you '"
            ]
          },
          "metadata": {}
        }
      ],
      "id": "7u0NH7_8mQTS"
    },
    {
      "cell_type": "code",
      "source": [
        "sample_tokens = tokenizer(input_text[0], padding=\"max_length\",\n",
        "                         max_length=seq_len, truncation=True,\n",
        "                         return_tensors=\"pt\")"
      ],
      "metadata": {
        "id": "8M8wy_3QmQTT"
      },
      "execution_count": null,
      "outputs": [],
      "id": "8M8wy_3QmQTT"
    },
    {
      "cell_type": "code",
      "source": [
        "sample_tokens"
      ],
      "metadata": {
        "id": "NPSPu0YXmQTT",
        "outputId": "372f1f7f-4517-4d50-b0ac-fe23bcca7243"
      },
      "execution_count": null,
      "outputs": [
        {
          "execution_count": 22,
          "output_type": "execute_result",
          "data": {
            "text/plain": [
              "{'input_ids': tensor([[  101,   178, 12017, 11989,  1113,   175, 22977,  1183,  1170,  4058,\n",
              "          1481,  1113, 10772,  1496,  1106,  1217,  1149,  1104,  1250,   102]]), 'token_type_ids': tensor([[0, 0, 0, 0, 0, 0, 0, 0, 0, 0, 0, 0, 0, 0, 0, 0, 0, 0, 0, 0]]), 'attention_mask': tensor([[1, 1, 1, 1, 1, 1, 1, 1, 1, 1, 1, 1, 1, 1, 1, 1, 1, 1, 1, 1]])}"
            ]
          },
          "metadata": {}
        }
      ],
      "id": "NPSPu0YXmQTT"
    },
    {
      "cell_type": "code",
      "source": [
        "sample_tokens[\"input_ids\"]"
      ],
      "metadata": {
        "id": "Grzc4r6AmQTT",
        "outputId": "89ca4140-7658-4fa8-c53d-b8b4170c0488"
      },
      "execution_count": null,
      "outputs": [
        {
          "execution_count": 23,
          "output_type": "execute_result",
          "data": {
            "text/plain": [
              "tensor([[  101,   178, 12017, 11989,  1113,   175, 22977,  1183,  1170,  4058,\n",
              "          1481,  1113, 10772,  1496,  1106,  1217,  1149,  1104,  1250,   102]])"
            ]
          },
          "metadata": {}
        }
      ],
      "id": "Grzc4r6AmQTT"
    },
    {
      "cell_type": "code",
      "source": [
        "sample_tokens[\"attention_mask\"]"
      ],
      "metadata": {
        "id": "xliH25-hmQTT",
        "outputId": "6e53f5b8-8b11-49bf-b633-6e125239f085"
      },
      "execution_count": null,
      "outputs": [
        {
          "execution_count": 24,
          "output_type": "execute_result",
          "data": {
            "text/plain": [
              "tensor([[1, 1, 1, 1, 1, 1, 1, 1, 1, 1, 1, 1, 1, 1, 1, 1, 1, 1, 1, 1]])"
            ]
          },
          "metadata": {}
        }
      ],
      "id": "xliH25-hmQTT"
    },
    {
      "cell_type": "code",
      "source": [
        "tokens = [tokenizer(i, padding=\"max_length\", max_length=seq_len,\n",
        "                    truncation=True, return_tensors=\"pt\")\n",
        "         for i in tqdm(input_text)]"
      ],
      "metadata": {
        "id": "gGkRHo7imQTU",
        "outputId": "f833f277-3559-42f5-e90f-b9b90b98c1f6"
      },
      "execution_count": null,
      "outputs": [
        {
          "name": "stderr",
          "output_type": "stream",
          "text": "100%|█████████████████████████████████████████████████████████████████████████████| 8000/8000 [00:56<00:00, 142.26it/s]\n"
        }
      ],
      "id": "gGkRHo7imQTU"
    },
    {
      "cell_type": "markdown",
      "source": [
        "### Save the tokens"
      ],
      "metadata": {
        "id": "OWkbQxBUmQTU"
      },
      "id": "OWkbQxBUmQTU"
    },
    {
      "cell_type": "code",
      "source": [
        "save_file(tokens_path, tokens)"
      ],
      "metadata": {
        "id": "ZY1AT2OymQTU"
      },
      "execution_count": null,
      "outputs": [],
      "id": "ZY1AT2OymQTU"
    },
    {
      "cell_type": "markdown",
      "source": [
        "## Create Bert model\n",
        "---"
      ],
      "metadata": {
        "id": "XJbveCOVmQTV"
      },
      "id": "XJbveCOVmQTV"
    },
    {
      "cell_type": "code",
      "source": [
        "class BertClassifier(nn.Module):\n",
        "\n",
        "    def __init__(self, dropout, num_classes):\n",
        "        super(BertClassifier, self).__init__()\n",
        "        self.bert = BertModel.from_pretrained('bert-base-cased')\n",
        "        for param in self.bert.parameters():\n",
        "            param.required_grad = False\n",
        "        self.dropout = nn.Dropout(dropout)\n",
        "        self.linear = nn.Linear(768, num_classes)\n",
        "        self.activation = nn.ReLU()\n",
        "\n",
        "    def forward(self, input_ids, attention_mask):\n",
        "        _, bert_output = self.bert(input_ids=input_ids,\n",
        "                                  attention_mask=attention_mask,\n",
        "                                  return_dict=False)\n",
        "        dropout_output = self.activation(self.dropout(bert_output))\n",
        "        final_output = self.linear(dropout_output)\n",
        "        return final_output"
      ],
      "metadata": {
        "id": "V7ll0mGnmQTV"
      },
      "execution_count": null,
      "outputs": [],
      "id": "V7ll0mGnmQTV"
    },
    {
      "cell_type": "markdown",
      "source": [
        "## Create PyTorch Dataset\n",
        "---"
      ],
      "metadata": {
        "id": "jrei4W7GmQTV"
      },
      "id": "jrei4W7GmQTV"
    },
    {
      "cell_type": "code",
      "source": [
        "class TextDataset(torch.utils.data.Dataset):\n",
        "\n",
        "    def __init__(self, tokens, labels):\n",
        "        self.tokens = tokens\n",
        "        self.labels = labels\n",
        "\n",
        "    def __len__(self):\n",
        "        return len(self.tokens)\n",
        "\n",
        "    def __getitem__(self, idx):\n",
        "        return self.labels[idx], self.tokens[idx]"
      ],
      "metadata": {
        "id": "jfCN8IHwmQTV"
      },
      "execution_count": null,
      "outputs": [],
      "id": "jfCN8IHwmQTV"
    },
    {
      "cell_type": "markdown",
      "source": [
        "### Function to train the model"
      ],
      "metadata": {
        "id": "puPbmeWUmQTV"
      },
      "id": "puPbmeWUmQTV"
    },
    {
      "cell_type": "code",
      "source": [
        "def train(train_loader, valid_loader, model, criterion, optimizer,\n",
        "          device, num_epochs, model_path):\n",
        "    \"\"\"\n",
        "    Function to train the model\n",
        "    :param train_loader: Data loader for train dataset\n",
        "    :param valid_loader: Data loader for validation dataset\n",
        "    :param model: Model object\n",
        "    :param criterion: Loss function\n",
        "    :param optimizer: Optimizer\n",
        "    :param device: CUDA or CPU\n",
        "    :param num_epochs: Number of epochs\n",
        "    :param model_path: Path to save the model\n",
        "    \"\"\"\n",
        "    best_loss = 1e8\n",
        "    for i in range(num_epochs):\n",
        "        print(f\"Epoch {i+1} of {num_epochs}\")\n",
        "        valid_loss, train_loss = [], []\n",
        "        model.train()\n",
        "        # Train loop\n",
        "        for batch_labels, batch_data in tqdm(train_loader):\n",
        "            input_ids = batch_data[\"input_ids\"]\n",
        "            attention_mask = batch_data[\"attention_mask\"]\n",
        "            # Move data to GPU if available\n",
        "            batch_labels = batch_labels.to(device)\n",
        "            input_ids = input_ids.to(device)\n",
        "            attention_mask = attention_mask.to(device)\n",
        "            input_ids = torch.squeeze(input_ids, 1)\n",
        "            # Forward pass\n",
        "            batch_output = model(input_ids, attention_mask)\n",
        "            batch_output = torch.squeeze(batch_output)\n",
        "            # Calculate loss\n",
        "            ###batch_labels = batch_labels.type(torch.LongTensor)\n",
        "            loss = criterion(batch_output, batch_labels)\n",
        "            train_loss.append(loss.item())\n",
        "            optimizer.zero_grad()\n",
        "            # Backward pass\n",
        "            loss.backward()\n",
        "            # Gradient update step\n",
        "            optimizer.step()\n",
        "        model.eval()\n",
        "        # Validation loop\n",
        "        for batch_labels, batch_data in tqdm(valid_loader):\n",
        "            input_ids = batch_data[\"input_ids\"]\n",
        "            attention_mask = batch_data[\"attention_mask\"]\n",
        "            # Move data to GPU if available\n",
        "            batch_labels = batch_labels.to(device)\n",
        "            input_ids = input_ids.to(device)\n",
        "            attention_mask = attention_mask.to(device)\n",
        "            input_ids = torch.squeeze(input_ids, 1)\n",
        "            # Forward pass\n",
        "            batch_output = model(input_ids, attention_mask)\n",
        "            batch_output = torch.squeeze(batch_output)\n",
        "            # Calculate loss\n",
        "            ###batch_labels = batch_labels.type(torch.LongTensor)\n",
        "            loss = criterion(batch_output, batch_labels)\n",
        "            valid_loss.append(loss.item())\n",
        "        t_loss = np.mean(train_loss)\n",
        "        v_loss = np.mean(valid_loss)\n",
        "        print(f\"Train Loss: {t_loss}, Validation Loss: {v_loss}\")\n",
        "        if v_loss < best_loss:\n",
        "            best_loss = v_loss\n",
        "            # Save model if validation loss improves\n",
        "            torch.save(model.state_dict(), model_path)\n",
        "        print(f\"Best Validation Loss: {best_loss}\")"
      ],
      "metadata": {
        "id": "QW2PC6WbmQTg"
      },
      "execution_count": null,
      "outputs": [],
      "id": "QW2PC6WbmQTg"
    },
    {
      "cell_type": "markdown",
      "source": [
        "### Function to test the model"
      ],
      "metadata": {
        "id": "zgAhbbsumQTh"
      },
      "id": "zgAhbbsumQTh"
    },
    {
      "cell_type": "code",
      "source": [
        "def test(test_loader, model, criterion, device):\n",
        "    \"\"\"\n",
        "    Function to test the model\n",
        "    :param test_loader: Data loader for test dataset\n",
        "    :param model: Model object\n",
        "    :param criterion: Loss function\n",
        "    :param device: CUDA or CPU\n",
        "    \"\"\"\n",
        "    model.eval()\n",
        "    test_loss = []\n",
        "    test_accu = []\n",
        "    for batch_labels, batch_data in tqdm(test_loader):\n",
        "        input_ids = batch_data[\"input_ids\"]\n",
        "        attention_mask = batch_data[\"attention_mask\"]\n",
        "        # Move data to GPU if available\n",
        "        batch_labels = batch_labels.to(device)\n",
        "        input_ids = input_ids.to(device)\n",
        "        attention_mask = attention_mask.to(device)\n",
        "        input_ids = torch.squeeze(input_ids, 1)\n",
        "        # Forward pass\n",
        "        batch_output = model(input_ids, attention_mask)\n",
        "        batch_output = torch.squeeze(batch_output)\n",
        "        # Calculate loss\n",
        "        ###batch_labels = batch_labels.type(torch.LongTensor)\n",
        "        loss = criterion(batch_output, batch_labels)\n",
        "        test_loss.append(loss.item())\n",
        "        batch_preds = torch.argmax(batch_output, axis=1)\n",
        "        # Move predictions to CPU\n",
        "        if torch.cuda.is_available():\n",
        "            batch_labels = batch_labels.cpu()\n",
        "            batch_preds = batch_preds.cpu()\n",
        "        # Compute accuracy\n",
        "        test_accu.append(accuracy_score(batch_labels.detach().\n",
        "                                        numpy(),\n",
        "                                        batch_preds.detach().\n",
        "                                        numpy()))\n",
        "    test_loss = np.mean(test_loss)\n",
        "    test_accu = np.mean(test_accu)\n",
        "    print(f\"Test Loss: {test_loss}, Test Accuracy: {test_accu}\")"
      ],
      "metadata": {
        "id": "25RfABKbmQTh"
      },
      "execution_count": null,
      "outputs": [],
      "id": "25RfABKbmQTh"
    },
    {
      "cell_type": "markdown",
      "source": [
        "## Train Bert model\n",
        "---"
      ],
      "metadata": {
        "id": "OnGPo_WOmQTi"
      },
      "id": "OnGPo_WOmQTi"
    },
    {
      "cell_type": "markdown",
      "source": [
        "### Load the files"
      ],
      "metadata": {
        "id": "RKRy2sCSmQTi"
      },
      "id": "RKRy2sCSmQTi"
    },
    {
      "cell_type": "code",
      "source": [
        "tokens = load_file(tokens_path)\n",
        "labels = load_file(labels_path)\n",
        "label_encoder = load_file(label_encoder_path)\n",
        "num_classes = len(label_encoder.classes_)"
      ],
      "metadata": {
        "id": "KOtHc4lgmQTi"
      },
      "execution_count": null,
      "outputs": [],
      "id": "KOtHc4lgmQTi"
    },
    {
      "cell_type": "markdown",
      "source": [
        "### Split data into train, validation and test sets"
      ],
      "metadata": {
        "id": "oyvzQWSkmQTi"
      },
      "id": "oyvzQWSkmQTi"
    },
    {
      "cell_type": "code",
      "source": [
        "X_train, X_test, y_train, y_test = train_test_split(tokens, labels,\n",
        "                                                   test_size=0.2)\n",
        "X_train, X_valid, y_train, y_valid = train_test_split(X_train,\n",
        "                                                      y_train,\n",
        "                                                     test_size=0.25)"
      ],
      "metadata": {
        "id": "oW4OOCLlmQTi"
      },
      "execution_count": null,
      "outputs": [],
      "id": "oW4OOCLlmQTi"
    },
    {
      "cell_type": "markdown",
      "source": [
        "### Create PyTorch datasets"
      ],
      "metadata": {
        "id": "vOLlOCHCmQTi"
      },
      "id": "vOLlOCHCmQTi"
    },
    {
      "cell_type": "code",
      "source": [
        "train_dataset = TextDataset(X_train, y_train)\n",
        "valid_dataset = TextDataset(X_valid, y_valid)\n",
        "test_dataset = TextDataset(X_test, y_test)"
      ],
      "metadata": {
        "id": "CbXDHgSCmQTi"
      },
      "execution_count": null,
      "outputs": [],
      "id": "CbXDHgSCmQTi"
    },
    {
      "cell_type": "markdown",
      "source": [
        "### Create data loaders"
      ],
      "metadata": {
        "id": "fMO4b_FbmQTj"
      },
      "id": "fMO4b_FbmQTj"
    },
    {
      "cell_type": "code",
      "source": [
        "train_loader = torch.utils.data.DataLoader(train_dataset,\n",
        "                                           batch_size=16,\n",
        "                                           shuffle=True,\n",
        "                                           drop_last=True)\n",
        "valid_loader = torch.utils.data.DataLoader(valid_dataset,\n",
        "                                           batch_size=16)\n",
        "test_loader = torch.utils.data.DataLoader(test_dataset,\n",
        "                                         batch_size=16)"
      ],
      "metadata": {
        "id": "LPHAHZZSmQTj"
      },
      "execution_count": null,
      "outputs": [],
      "id": "LPHAHZZSmQTj"
    },
    {
      "cell_type": "markdown",
      "source": [
        "### Create model object"
      ],
      "metadata": {
        "id": "mWeqiU7wmQTj"
      },
      "id": "mWeqiU7wmQTj"
    },
    {
      "cell_type": "code",
      "source": [
        "device = torch.device(\"cuda:0\" if torch.cuda.is_available()\n",
        "                     else \"cpu\")"
      ],
      "metadata": {
        "id": "_S6KjZF6mQTj"
      },
      "execution_count": null,
      "outputs": [],
      "id": "_S6KjZF6mQTj"
    },
    {
      "cell_type": "code",
      "source": [
        "model = BertClassifier(dropout, num_classes)"
      ],
      "metadata": {
        "id": "Qg6CTXDsmQTj"
      },
      "execution_count": null,
      "outputs": [],
      "id": "Qg6CTXDsmQTj"
    },
    {
      "cell_type": "markdown",
      "source": [
        "### Define loss function and optimizer"
      ],
      "metadata": {
        "id": "yJksvDu9mQTj"
      },
      "id": "yJksvDu9mQTj"
    },
    {
      "cell_type": "code",
      "source": [
        "criterion = torch.nn.CrossEntropyLoss()\n",
        "optimizer = torch.optim.Adam(model.parameters(), lr=lr)"
      ],
      "metadata": {
        "id": "0w-VCfJZmQTk"
      },
      "execution_count": null,
      "outputs": [],
      "id": "0w-VCfJZmQTk"
    },
    {
      "cell_type": "markdown",
      "source": [
        "### Move the model to GPU if available"
      ],
      "metadata": {
        "id": "CfqYOTvcmQTk"
      },
      "id": "CfqYOTvcmQTk"
    },
    {
      "cell_type": "code",
      "source": [
        "if torch.cuda.is_available():\n",
        "    model = model.cuda()\n",
        "    criterion = criterion.cuda()"
      ],
      "metadata": {
        "id": "EVRCIKaMmQTk"
      },
      "execution_count": null,
      "outputs": [],
      "id": "EVRCIKaMmQTk"
    },
    {
      "cell_type": "markdown",
      "source": [
        "### Training loop"
      ],
      "metadata": {
        "id": "JKGeSpFPmQTk"
      },
      "id": "JKGeSpFPmQTk"
    },
    {
      "cell_type": "code",
      "source": [
        "train(train_loader, valid_loader, model, criterion, optimizer,\n",
        "     device, num_epochs, model_path)"
      ],
      "metadata": {
        "id": "MA_dHIMHmQTk",
        "outputId": "3062bfb0-0909-4aea-e0a8-2ce93d45f838"
      },
      "execution_count": null,
      "outputs": [
        {
          "name": "stderr",
          "output_type": "stream",
          "text": "\n\n  0%|                                                                                          | 0/300 [00:00<?, ?it/s]"
        },
        {
          "name": "stdout",
          "output_type": "stream",
          "text": "Epoch 1 of 2\n"
        },
        {
          "name": "stderr",
          "output_type": "stream",
          "text": "100%|████████████████████████████████████████████████████████████████████████████████| 300/300 [13:16<00:00,  2.66s/it]\n\n100%|████████████████████████████████████████████████████████████████████████████████| 100/100 [00:53<00:00,  1.88it/s]\n"
        },
        {
          "name": "stdout",
          "output_type": "stream",
          "text": "Train Loss: 1.7121455442905427, Validation Loss: 1.7283893287181855\n"
        },
        {
          "name": "stderr",
          "output_type": "stream",
          "text": "\n\n  0%|                                                                                          | 0/300 [00:00<?, ?it/s]"
        },
        {
          "name": "stdout",
          "output_type": "stream",
          "text": "Best Validation Loss: 1.7283893287181855\n\nEpoch 2 of 2\n"
        },
        {
          "name": "stderr",
          "output_type": "stream",
          "text": "100%|████████████████████████████████████████████████████████████████████████████████| 300/300 [13:54<00:00,  2.78s/it]\n\n100%|████████████████████████████████████████████████████████████████████████████████| 100/100 [01:01<00:00,  1.62it/s]\n"
        },
        {
          "name": "stdout",
          "output_type": "stream",
          "text": "Train Loss: 1.6853400252262751, Validation Loss: 1.681002470254898\n\nBest Validation Loss: 1.681002470254898\n"
        }
      ],
      "id": "MA_dHIMHmQTk"
    },
    {
      "cell_type": "markdown",
      "source": [
        "### Test the model"
      ],
      "metadata": {
        "id": "1qqbQPDHmQTl"
      },
      "id": "1qqbQPDHmQTl"
    },
    {
      "cell_type": "code",
      "source": [
        "test(test_loader, model, criterion, device)"
      ],
      "metadata": {
        "id": "rAK1oodgmQTl",
        "outputId": "a8b1404e-83bb-4900-c111-92293d9598fd"
      },
      "execution_count": null,
      "outputs": [
        {
          "name": "stderr",
          "output_type": "stream",
          "text": "100%|████████████████████████████████████████████████████████████████████████████████| 100/100 [00:57<00:00,  1.73it/s]"
        },
        {
          "name": "stdout",
          "output_type": "stream",
          "text": "Test Loss: 1.6601403439044953, Test Accuracy: 0.453125\n"
        },
        {
          "name": "stderr",
          "output_type": "stream",
          "text": "\n"
        }
      ],
      "id": "rAK1oodgmQTl"
    },
    {
      "cell_type": "markdown",
      "source": [
        "## Predict on new text\n",
        "---"
      ],
      "metadata": {
        "id": "q0OTm7DvmQTl"
      },
      "id": "q0OTm7DvmQTl"
    },
    {
      "cell_type": "code",
      "source": [
        "input_text = '''I am a victim of Identity Theft & currently have an Experian account that\n",
        "I can view my Experian Credit Report and getting notified when there is activity on\n",
        "my Experian Credit Report. For the past 3 days I've spent a total of approximately 9\n",
        "hours on the phone with Experian. Every time I call I get transferred repeatedly and\n",
        "then my last transfer and automated message states to press 1 and leave a message and\n",
        "someone would call me. Every time I press 1 I get an automatic message stating than you\n",
        "before I even leave a message and get disconnected. I call Experian again, explain what\n",
        "is happening and the process begins again with the same end result. I was trying to have\n",
        "this issue attended and resolved informally but I give up after 9 hours. There are hard\n",
        "hit inquiries on my Experian Credit Report that are fraud, I didn't authorize, or recall\n",
        "and I respectfully request that Experian remove the hard hit inquiries immediately just\n",
        "like they've done in the past when I was able to speak to a live Experian representative\n",
        "in the United States. The following are the hard hit inquiries : BK OF XXXX XX/XX/XXXX\n",
        "XXXX XXXX XXXX  XX/XX/XXXX XXXX  XXXX XXXX  XX/XX/XXXX XXXX  XX/XX/XXXX XXXX  XXXX\n",
        "XX/XX/XXXX'''"
      ],
      "metadata": {
        "id": "YA8vsUNHmQTm"
      },
      "execution_count": null,
      "outputs": [],
      "id": "YA8vsUNHmQTm"
    },
    {
      "cell_type": "code",
      "source": [
        "input_text = input_text.lower()\n",
        "input_text = re.sub(r\"[^\\w\\d'\\s]+\", \" \", input_text)\n",
        "input_text = re.sub(\"\\d+\", \"\", input_text)\n",
        "input_text = re.sub(r'[x]{2,}', \"\", input_text)\n",
        "input_text = re.sub(' +', ' ', input_text)"
      ],
      "metadata": {
        "id": "SWBHR9PbmQTm"
      },
      "execution_count": null,
      "outputs": [],
      "id": "SWBHR9PbmQTm"
    },
    {
      "cell_type": "code",
      "source": [
        "tokenizer = BertTokenizer.from_pretrained(\"bert-base-cased\")"
      ],
      "metadata": {
        "id": "RPZEiIg7mQTm"
      },
      "execution_count": null,
      "outputs": [],
      "id": "RPZEiIg7mQTm"
    },
    {
      "cell_type": "code",
      "source": [
        "tokens = tokenizer(input_text, padding=\"max_length\",\n",
        "                 max_length=seq_len, truncation=True,\n",
        "                 return_tensors=\"pt\")"
      ],
      "metadata": {
        "id": "5yXCXCoSmQTm"
      },
      "execution_count": null,
      "outputs": [],
      "id": "5yXCXCoSmQTm"
    },
    {
      "cell_type": "code",
      "source": [
        "input_ids = tokens[\"input_ids\"]\n",
        "attention_mask = tokens[\"attention_mask\"]"
      ],
      "metadata": {
        "id": "wjrKjX34mQTm"
      },
      "execution_count": null,
      "outputs": [],
      "id": "wjrKjX34mQTm"
    },
    {
      "cell_type": "code",
      "source": [
        "device = torch.device(\"cuda:0\" if torch.cuda.is_available()\n",
        "                     else \"cpu\")"
      ],
      "metadata": {
        "id": "2G-d7w1FmQTn"
      },
      "execution_count": null,
      "outputs": [],
      "id": "2G-d7w1FmQTn"
    },
    {
      "cell_type": "code",
      "source": [
        "input_ids = input_ids.to(device)\n",
        "attention_mask = attention_mask.to(device)"
      ],
      "metadata": {
        "id": "vbmtLpSWmQTn"
      },
      "execution_count": null,
      "outputs": [],
      "id": "vbmtLpSWmQTn"
    },
    {
      "cell_type": "code",
      "source": [
        "input_ids = torch.squeeze(input_ids, 1)"
      ],
      "metadata": {
        "id": "jF_nU3VsmQTn"
      },
      "execution_count": null,
      "outputs": [],
      "id": "jF_nU3VsmQTn"
    },
    {
      "cell_type": "code",
      "source": [
        "label_encoder = load_file(label_encoder_path)\n",
        "num_classes = len(label_encoder.classes_)"
      ],
      "metadata": {
        "id": "kRQpOPrMmQTn"
      },
      "execution_count": null,
      "outputs": [],
      "id": "kRQpOPrMmQTn"
    },
    {
      "cell_type": "code",
      "source": [
        "# Create model object\n",
        "model = BertClassifier(dropout, num_classes)\n",
        "\n",
        "# Load trained weights\n",
        "model.load_state_dict(torch.load(model_path))\n",
        "\n",
        "# Move the model to GPU if available\n",
        "if torch.cuda.is_available():\n",
        "    model = model.cuda()\n",
        "\n",
        "# Forward pass\n",
        "out = torch.squeeze(model(input_ids, attention_mask))\n",
        "\n",
        "# Find predicted class\n",
        "prediction = label_encoder.classes_[torch.argmax(out)]\n",
        "print(f\"Predicted Class: {prediction}\")"
      ],
      "metadata": {
        "id": "6bMnvStBmQTn",
        "outputId": "27cb5ecf-f43e-45ce-fd2e-a10dc2a01ae6"
      },
      "execution_count": null,
      "outputs": [
        {
          "name": "stdout",
          "output_type": "stream",
          "text": "Predicted Class: credit_report\n"
        }
      ],
      "id": "6bMnvStBmQTn"
    },
    {
      "cell_type": "code",
      "source": [],
      "metadata": {
        "id": "_lmSDUNymQTo"
      },
      "execution_count": null,
      "outputs": [],
      "id": "_lmSDUNymQTo"
    }
  ]
}